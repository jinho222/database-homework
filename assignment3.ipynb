{
 "cells": [
  {
   "cell_type": "code",
   "execution_count": 1,
   "outputs": [],
   "source": [
    "import psycopg\n",
    "from psycopg import sql\n",
    "# change to your python code file name\n",
    "from main import *"
   ],
   "metadata": {
    "collapsed": false,
    "ExecuteTime": {
     "end_time": "2023-10-15T14:41:45.683483900Z",
     "start_time": "2023-10-15T14:41:45.591457Z"
    }
   },
   "id": "214069a04c917583"
  },
  {
   "cell_type": "code",
   "execution_count": 2,
   "outputs": [],
   "source": [
    "HOST = 'localhost'\n",
    "DBNAME = 'mydbase'\n",
    "USER = 'postgres'\n",
    "PASSWORD = 'qwer1234'\n",
    "\n",
    "CONNECTION = f\"host={HOST} dbname={DBNAME} user={USER} password={PASSWORD}\""
   ],
   "metadata": {
    "collapsed": false,
    "ExecuteTime": {
     "end_time": "2023-10-15T14:42:25.658167600Z",
     "start_time": "2023-10-15T14:42:25.637392600Z"
    }
   },
   "id": "6f62e61538240ba7"
  },
  {
   "cell_type": "code",
   "execution_count": 5,
   "outputs": [
    {
     "data": {
      "text/plain": "[(1, '2017111111'),\n (2, '2017111111'),\n (3, '2017111111'),\n (4, '2017111111'),\n (6, '2017111111'),\n (8, '2017111111'),\n (3, '2018111111'),\n (5, '2018111111'),\n (6, '2018111111'),\n (7, '2018111111'),\n (9, '2018111111'),\n (10, '2018111111'),\n (5, '2019111111'),\n (6, '2019111111'),\n (7, '2019111111'),\n (8, '2019111111'),\n (7, '2020111111'),\n (8, '2020111111'),\n (9, '2020111111'),\n (11, '2020111111'),\n (9, '2021111111'),\n (10, '2021111111'),\n (11, '2021111111'),\n (11, '2022111111'),\n (11, '2022222222'),\n (11, '2022333333'),\n (11, '2022444444'),\n (12, '2021111111'),\n (12, '2022111111')]"
     },
     "execution_count": 5,
     "metadata": {},
     "output_type": "execute_result"
    }
   ],
   "source": [
    "# search all data\n",
    "table_name = 'course_registration'\n",
    "entire_search(CONNECTION=CONNECTION, table_name=table_name)"
   ],
   "metadata": {
    "collapsed": false,
    "ExecuteTime": {
     "end_time": "2023-10-15T14:43:35.632126100Z",
     "start_time": "2023-10-15T14:43:35.572507Z"
    }
   },
   "id": "a482252e939078ae"
  },
  {
   "cell_type": "code",
   "execution_count": 30,
   "outputs": [
    {
     "data": {
      "text/plain": "[(2022, 1, 'CSI', '2103', 1, '자료구조', 'Kim', Decimal('4.3'))]"
     },
     "execution_count": 30,
     "metadata": {},
     "output_type": "execute_result"
    }
   ],
   "source": [
    "# search registration history by student id\n",
    "student_id = '2022111111'\n",
    "registration_history(CONNECTION=CONNECTION, student_id=student_id)"
   ],
   "metadata": {
    "collapsed": false,
    "ExecuteTime": {
     "end_time": "2023-10-15T15:00:27.989061Z",
     "start_time": "2023-10-15T15:00:27.936320400Z"
    }
   },
   "id": "acbf58ef6ba7a29e"
  },
  {
   "cell_type": "code",
   "execution_count": 29,
   "outputs": [
    {
     "data": {
      "text/plain": "[(1, '2017111111'),\n (2, '2017111111'),\n (3, '2017111111'),\n (4, '2017111111'),\n (6, '2017111111'),\n (8, '2017111111'),\n (3, '2018111111'),\n (5, '2018111111'),\n (6, '2018111111'),\n (7, '2018111111'),\n (9, '2018111111'),\n (10, '2018111111'),\n (5, '2019111111'),\n (6, '2019111111'),\n (7, '2019111111'),\n (8, '2019111111'),\n (7, '2020111111'),\n (8, '2020111111'),\n (9, '2020111111'),\n (11, '2020111111'),\n (9, '2021111111'),\n (10, '2021111111'),\n (11, '2021111111'),\n (11, '2022111111'),\n (11, '2022222222'),\n (11, '2022333333'),\n (11, '2022444444'),\n (12, '2021111111'),\n (1, '2022111111')]"
     },
     "execution_count": 29,
     "metadata": {},
     "output_type": "execute_result"
    }
   ],
   "source": [
    "# registration course\n",
    "course_id = 1\n",
    "student_id = '2022111111'\n",
    "registration(CONNECTION=CONNECTION, course_id=course_id, student_id=student_id)"
   ],
   "metadata": {
    "collapsed": false,
    "ExecuteTime": {
     "end_time": "2023-10-15T15:00:23.094558900Z",
     "start_time": "2023-10-15T15:00:23.030543400Z"
    }
   },
   "id": "bc97a99369474e6b"
  },
  {
   "cell_type": "code",
   "execution_count": 28,
   "outputs": [
    {
     "data": {
      "text/plain": "[(1, '2017111111'),\n (2, '2017111111'),\n (3, '2017111111'),\n (4, '2017111111'),\n (6, '2017111111'),\n (8, '2017111111'),\n (3, '2018111111'),\n (5, '2018111111'),\n (6, '2018111111'),\n (7, '2018111111'),\n (9, '2018111111'),\n (10, '2018111111'),\n (5, '2019111111'),\n (6, '2019111111'),\n (7, '2019111111'),\n (8, '2019111111'),\n (7, '2020111111'),\n (8, '2020111111'),\n (9, '2020111111'),\n (11, '2020111111'),\n (9, '2021111111'),\n (10, '2021111111'),\n (11, '2021111111'),\n (11, '2022111111'),\n (11, '2022222222'),\n (11, '2022333333'),\n (11, '2022444444'),\n (12, '2021111111')]"
     },
     "execution_count": 28,
     "metadata": {},
     "output_type": "execute_result"
    }
   ],
   "source": [
    "# withdrawal course\n",
    "course_id = 1\n",
    "student_id = '2022111111'\n",
    "withdrawal_registration(CONNECTION=CONNECTION, course_id=course_id, student_id=student_id)"
   ],
   "metadata": {
    "collapsed": false,
    "ExecuteTime": {
     "end_time": "2023-10-15T15:00:21.052418200Z",
     "start_time": "2023-10-15T15:00:20.986220900Z"
    }
   },
   "id": "160546628101fbfb"
  },
  {
   "cell_type": "code",
   "execution_count": 19,
   "outputs": [
    {
     "name": "stdout",
     "output_type": "stream",
     "text": [
      "“Not Exist lecture room with BUILD NO: 공1 / ROOM NO: 504\n"
     ]
    }
   ],
   "source": [
    "# modify lecture room\n",
    "course_id = 12\n",
    "buildno = '공1'\n",
    "roomno = '504'\n",
    "\n",
    "modify_lectureroom(CONNECTION=CONNECTION, course_id=course_id, buildno=buildno, roomno=roomno)"
   ],
   "metadata": {
    "collapsed": false,
    "ExecuteTime": {
     "end_time": "2023-10-15T14:55:52.853018500Z",
     "start_time": "2023-10-15T14:55:52.844118600Z"
    }
   },
   "id": "fce06840d4326725"
  }
 ],
 "metadata": {
  "kernelspec": {
   "display_name": "Python 3",
   "language": "python",
   "name": "python3"
  },
  "language_info": {
   "codemirror_mode": {
    "name": "ipython",
    "version": 2
   },
   "file_extension": ".py",
   "mimetype": "text/x-python",
   "name": "python",
   "nbconvert_exporter": "python",
   "pygments_lexer": "ipython2",
   "version": "2.7.6"
  }
 },
 "nbformat": 4,
 "nbformat_minor": 5
}
